{
 "cells": [
  {
   "cell_type": "markdown",
   "id": "1ec5c53b-ebc5-4413-aa87-87da5a6f23ff",
   "metadata": {},
   "source": [
    "# Python Practice Problems"
   ]
  },
  {
   "cell_type": "markdown",
   "id": "c3e9317a-70cd-44c4-80a5-a3dd620541c5",
   "metadata": {},
   "source": [
    "### 1. Find the Largest of Two Numbers\n",
    "**Task:** Given two numbers, find the larger one.  \n",
    "**Demo Input:**  5 and 6 <br>\n",
    "**Output:** 6\n"
   ]
  },
  {
   "cell_type": "code",
   "execution_count": 112,
   "id": "36d65420-9242-40c9-a657-6b010ebb8118",
   "metadata": {},
   "outputs": [
    {
     "name": "stdin",
     "output_type": "stream",
     "text": [
      "Enter a number : 12\n",
      "Enter another number : 12\n"
     ]
    },
    {
     "name": "stdout",
     "output_type": "stream",
     "text": [
      "The largest number is : 12\n"
     ]
    }
   ],
   "source": [
    "#find the largest of two numbers\n",
    "a = int(input(\"Enter a number :\"))\n",
    "b = int(input(\"Enter another number :\"))\n",
    "if (a>b):\n",
    "    print(\"The largest number is : \",a)\n",
    "else:\n",
    "    print(\"The largest number is :\", b)"
   ]
  },
  {
   "cell_type": "markdown",
   "id": "06353a39-5552-4415-9417-c8f467369e86",
   "metadata": {},
   "source": [
    "### 2. Print Numbers from 1 to N\n",
    "**Task**: Given a number `n`, print all numbers from 1 to `n`. <br> \n",
    "**Demo Input**: `5`  <br>\n",
    "**Demo Output**:  1 2 3 4 5"
   ]
  },
  {
   "cell_type": "code",
   "execution_count": 46,
   "id": "7ec39f36-ebe1-4493-9c3a-6ab2779c904b",
   "metadata": {},
   "outputs": [
    {
     "name": "stdin",
     "output_type": "stream",
     "text": [
      "Enter a number :  12\n"
     ]
    },
    {
     "name": "stdout",
     "output_type": "stream",
     "text": [
      "0 1 2 3 4 5 6 7 8 9 10 11 12 "
     ]
    }
   ],
   "source": [
    "#print numbers from 1 to N\n",
    "num = int(input(\"Enter a number : \"))\n",
    "if (num != 0):\n",
    "   for i in range(0,num+1):\n",
    "    print(i,end=\" \")"
   ]
  },
  {
   "cell_type": "markdown",
   "id": "c03de412-1e80-4c6a-92ce-1e8566fbe80f",
   "metadata": {},
   "source": [
    "### 3. Check if a Number is Positive or Negative\n",
    "**Task**: Determine if the input number is positive, negative, or zero.  \n",
    "**Demo Input**: `-3`  \n",
    "**Demo Output**: `The number is Negative`"
   ]
  },
  {
   "cell_type": "code",
   "execution_count": 59,
   "id": "672a6556-348e-43d2-98af-2efeca30948f",
   "metadata": {},
   "outputs": [
    {
     "name": "stdin",
     "output_type": "stream",
     "text": [
      "Enter a number :  23\n"
     ]
    },
    {
     "name": "stdout",
     "output_type": "stream",
     "text": [
      "The number is positive \n"
     ]
    }
   ],
   "source": [
    "#Check the number is positive or negetive\n",
    "num =int( input(\"Enter a number : \"))\n",
    "if(num > 0):\n",
    "     print(\"The number is positive \")\n",
    "elif(num == 0):\n",
    "     print(\"This is zero value\")\n",
    "else:\n",
    "     print(\"The number is negetive\")\n",
    "     "
   ]
  },
  {
   "cell_type": "markdown",
   "id": "aee57b40-b1d0-4af7-9515-1e6acf3cae82",
   "metadata": {},
   "source": [
    "### 4. Calculate the Sum of Digits\n",
    "**Task**: Given a number, find the sum of its digits.  \n",
    "**Demo Input**: `123`  \n",
    "**Demo Output**: `6`  \n",
    "(Explanation: `1+2+3=6`)"
   ]
  },
  {
   "cell_type": "code",
   "execution_count": 3,
   "id": "d40e8156-d109-4cbe-9091-ad232d378d5e",
   "metadata": {},
   "outputs": [
    {
     "name": "stdin",
     "output_type": "stream",
     "text": [
      "Enter Number:  123\n"
     ]
    },
    {
     "name": "stdout",
     "output_type": "stream",
     "text": [
      "6\n"
     ]
    }
   ],
   "source": [
    "#Calculate the sum of digits\n",
    "num = input(\"Enter Number: \")\n",
    "sum = 0\n",
    "\n",
    "for i in num:\n",
    "    sum = sum + int(i)\n",
    "\n",
    "print(sum)"
   ]
  },
  {
   "cell_type": "markdown",
   "id": "2c5da3c7-f2f6-44ca-a2d3-6a7b2439d1c5",
   "metadata": {},
   "source": [
    "### 5. Find Factorial of a Number\n",
    "**Task**: Calculate the factorial of a given number.  \n",
    "**Demo Input**: `4`  \n",
    "**Demo Output**: `24`  \n",
    "(Explanation: `4! = 4*3*2*1 = 24`)"
   ]
  },
  {
   "cell_type": "code",
   "execution_count": 63,
   "id": "9dff84be-16a4-42a6-87ef-77bcba34d2e7",
   "metadata": {},
   "outputs": [
    {
     "name": "stdin",
     "output_type": "stream",
     "text": [
      "Enter a number :  5\n"
     ]
    },
    {
     "name": "stdout",
     "output_type": "stream",
     "text": [
      "120\n"
     ]
    }
   ],
   "source": [
    "#Find the factorial of a number\n",
    "num = int(input(\"Enter a number : \"))\n",
    "\n",
    "# Initialize the factorial variable to 1\n",
    "fact = 1\n",
    "\n",
    "# Calculate the factorial using a for loop\n",
    "for i in range(1, num + 1):\n",
    "    fact *= i\n",
    "\n",
    "print(fact)"
   ]
  },
  {
   "cell_type": "markdown",
   "id": "69411451-56a5-4699-89b1-130286e81793",
   "metadata": {},
   "source": [
    "### 6. Count Occurrences of a Digit\n",
    "**Task**: Count how many times a specific digit appears max in a number.  \n",
    "**Demo Input**:  1233321 <br>\n",
    "**Demo Output**: `3`  <br>\n",
    "(Explanation: `3` appears 3 times in `1233321`)"
   ]
  },
  {
   "cell_type": "code",
   "execution_count": 122,
   "id": "97d206db-e75f-424d-989d-d8d29dddc7f3",
   "metadata": {},
   "outputs": [
    {
     "name": "stdin",
     "output_type": "stream",
     "text": [
      "Enter the finding number 11122\n",
      "Enter the number 1\n"
     ]
    },
    {
     "name": "stdout",
     "output_type": "stream",
     "text": [
      "3\n"
     ]
    }
   ],
   "source": [
    "#Count the occurances of a digit\n",
    "def countOccurrances(n, d):\n",
    "    count = 0\n",
    " \n",
    "    # Loop to find the digits of N\n",
    "    while (n > 0):\n",
    " \n",
    "        # check if the digit is D\n",
    "        if(n % 10 == d):\n",
    "            count = count + 1\n",
    "  \n",
    "        n = n // 10\n",
    " \n",
    "    return count\n",
    " \n",
    "# Driver code\n",
    "d = int(input(\"Enter the finding number\"))\n",
    "n = int(input(\"Enter the number\"))\n",
    "print(countOccurrances(d, n))"
   ]
  },
  {
   "cell_type": "markdown",
   "id": "74b6371d-92ef-4e46-9a3e-cfa89751a802",
   "metadata": {},
   "source": [
    "### 7. Find the GCD of Two Numbers\n",
    "**Task**: Find the greatest common divisor (GCD) of two numbers.  \n",
    "**Demo Input**: 8 and 12 <br>\n",
    "**Demo Output**: `4`"
   ]
  },
  {
   "cell_type": "code",
   "execution_count": 101,
   "id": "62ba1ebd-c393-423c-8aff-fef39cdbdaea",
   "metadata": {},
   "outputs": [
    {
     "name": "stdin",
     "output_type": "stream",
     "text": [
      "Enter a number :  4\n",
      "Enter another number :  10\n"
     ]
    },
    {
     "name": "stdout",
     "output_type": "stream",
     "text": [
      "2\n"
     ]
    }
   ],
   "source": [
    "#The GCD of two numbers\n",
    "a = int(input(\"Enter a number : \"))  # first number\n",
    "b =  int(input(\"Enter another number : \"))   # second number\n",
    "\n",
    "# loop until the remainder is 0\n",
    "while b != 0:\n",
    "    a, b = b, a % b\n",
    "\n",
    "print(a) "
   ]
  },
  {
   "cell_type": "markdown",
   "id": "71ccbb42-c7db-48a9-a4ff-6cc85db1647d",
   "metadata": {},
   "source": [
    "### 8. Reverse a String\n",
    "**Task**: Reverse the given string.  \n",
    "**Demo Input**: `\"aiquest\"`  \n",
    "**Demo Output**: `\"tseuqia\"`"
   ]
  },
  {
   "cell_type": "code",
   "execution_count": 110,
   "id": "4c522819-96af-44d9-ba9e-129d92456dc5",
   "metadata": {},
   "outputs": [
    {
     "name": "stdin",
     "output_type": "stream",
     "text": [
      "Enter a string : hi\n"
     ]
    },
    {
     "name": "stdout",
     "output_type": "stream",
     "text": [
      "ih\n"
     ]
    }
   ],
   "source": [
    "#Revers a string\n",
    "txt = input(\"Enter a string :\")\n",
    "def my_function(txt):\n",
    "  return txt[::-1]\n",
    "\n",
    "mytxt = my_function(txt)\n",
    "\n",
    "print(mytxt)"
   ]
  },
  {
   "cell_type": "markdown",
   "id": "dbd986de-5940-4118-a0ae-7db44a7e937e",
   "metadata": {},
   "source": [
    "### 9. Check Armstrong Number\n",
    "**Task**: Check if a number is an Armstrong number (the sum of its digits raised to the power of the number of digits equals the number).  \n",
    "**Demo Input**: `153`  \n",
    "**Demo Output**: `153 is an Armstrong Number`  \n",
    "(Explanation: \\(1^3 + 5^3 + 3^3 = 153\\))"
   ]
  },
  {
   "cell_type": "code",
   "execution_count": 93,
   "id": "d58b4250-a2c0-4f8e-903a-7915b59e54c8",
   "metadata": {},
   "outputs": [
    {
     "name": "stdin",
     "output_type": "stream",
     "text": [
      "Enter a number :  123\n"
     ]
    },
    {
     "name": "stdout",
     "output_type": "stream",
     "text": [
      "The given number 123 is not armstrong number\n"
     ]
    }
   ],
   "source": [
    "#Check Armstrong Number\n",
    "n = int(input(\"Enter a number : \"))  \n",
    "s = n  \n",
    "b = len(str(n))\n",
    "sum1 = 0\n",
    "while n != 0:\n",
    "    r = n % 10\n",
    "    sum1 = sum1+(r**b)\n",
    "    n = n//10\n",
    "if s == sum1:\n",
    "    print(\"The given number\", s, \"is armstrong number\")\n",
    "else:\n",
    "    print(\"The given number\", s, \"is not armstrong number\")"
   ]
  },
  {
   "cell_type": "markdown",
   "id": "cb552e5d-7e7f-42fa-90e7-54e60bc22aa0",
   "metadata": {},
   "source": [
    "### 10. Generate a Pattern\n",
    "**Task**: Print a pyramid pattern with `n` rows.  \n",
    "**Demo input:** 4 <br>\n",
    "**Output:** You will see the pyramid pattern with 4 rows"
   ]
  },
  {
   "cell_type": "code",
   "execution_count": 96,
   "id": "649903ca-b736-4fc6-a3a9-09ad60361d0b",
   "metadata": {},
   "outputs": [
    {
     "name": "stdin",
     "output_type": "stream",
     "text": [
      "Enter number of rows:  5\n"
     ]
    },
    {
     "name": "stdout",
     "output_type": "stream",
     "text": [
      "        * \n",
      "      * * * \n",
      "    * * * * * \n",
      "  * * * * * * * \n",
      "* * * * * * * * * \n"
     ]
    }
   ],
   "source": [
    "#Generate a pyramid pattern with n numbers\n",
    "rows = int(input(\"Enter number of rows: \"))\n",
    "\n",
    "k = 0\n",
    "\n",
    "for i in range(1, rows+1):\n",
    "    for space in range(1, (rows-i)+1):\n",
    "        print(end=\"  \")\n",
    "   \n",
    "    while k!=(2*i-1):\n",
    "        print(\"* \", end=\"\")\n",
    "        k += 1\n",
    "   \n",
    "    k = 0\n",
    "    print()"
   ]
  },
  {
   "cell_type": "code",
   "execution_count": null,
   "id": "81b48b5c-c7f5-4f90-9210-aae9826c274e",
   "metadata": {},
   "outputs": [],
   "source": []
  }
 ],
 "metadata": {
  "kernelspec": {
   "display_name": "Python [conda env:base] *",
   "language": "python",
   "name": "conda-base-py"
  },
  "language_info": {
   "codemirror_mode": {
    "name": "ipython",
    "version": 3
   },
   "file_extension": ".py",
   "mimetype": "text/x-python",
   "name": "python",
   "nbconvert_exporter": "python",
   "pygments_lexer": "ipython3",
   "version": "3.12.7"
  }
 },
 "nbformat": 4,
 "nbformat_minor": 5
}
